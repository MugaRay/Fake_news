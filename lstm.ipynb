{
 "cells": [
  {
   "cell_type": "code",
   "execution_count": 1,
   "metadata": {},
   "outputs": [
    {
     "name": "stderr",
     "output_type": "stream",
     "text": [
      "2024-08-12 10:52:51.985558: I tensorflow/core/util/port.cc:153] oneDNN custom operations are on. You may see slightly different numerical results due to floating-point round-off errors from different computation orders. To turn them off, set the environment variable `TF_ENABLE_ONEDNN_OPTS=0`.\n",
      "2024-08-12 10:52:51.986395: I external/local_xla/xla/tsl/cuda/cudart_stub.cc:32] Could not find cuda drivers on your machine, GPU will not be used.\n",
      "2024-08-12 10:52:51.989589: I external/local_xla/xla/tsl/cuda/cudart_stub.cc:32] Could not find cuda drivers on your machine, GPU will not be used.\n",
      "2024-08-12 10:52:51.997747: E external/local_xla/xla/stream_executor/cuda/cuda_fft.cc:485] Unable to register cuFFT factory: Attempting to register factory for plugin cuFFT when one has already been registered\n",
      "2024-08-12 10:52:52.010931: E external/local_xla/xla/stream_executor/cuda/cuda_dnn.cc:8454] Unable to register cuDNN factory: Attempting to register factory for plugin cuDNN when one has already been registered\n",
      "2024-08-12 10:52:52.014774: E external/local_xla/xla/stream_executor/cuda/cuda_blas.cc:1452] Unable to register cuBLAS factory: Attempting to register factory for plugin cuBLAS when one has already been registered\n",
      "2024-08-12 10:52:52.024952: I tensorflow/core/platform/cpu_feature_guard.cc:210] This TensorFlow binary is optimized to use available CPU instructions in performance-critical operations.\n",
      "To enable the following instructions: AVX2 AVX_VNNI FMA, in other operations, rebuild TensorFlow with the appropriate compiler flags.\n",
      "2024-08-12 10:52:56.436400: W tensorflow/compiler/tf2tensorrt/utils/py_utils.cc:38] TF-TRT Warning: Could not find TensorRT\n"
     ]
    }
   ],
   "source": [
    "import pandas as pd\n",
    "from sklearn.model_selection import train_test_split\n",
    "from tensorflow.keras.preprocessing.text import Tokenizer\n",
    "from tensorflow.keras.preprocessing.sequence import pad_sequences\n",
    "from tensorflow import keras\n",
    "import matplotlib.pyplot as plt\n",
    "from sklearn.model_selection import KFold\n",
    "from tensorflow.keras.regularizers import l1, l2\n",
    "from tensorflow.keras.metrics import F1Score, Recall, Precision\n",
    "from keras.callbacks import EarlyStopping"
   ]
  },
  {
   "cell_type": "code",
   "execution_count": 2,
   "metadata": {},
   "outputs": [
    {
     "data": {
      "text/html": [
       "<div>\n",
       "<style scoped>\n",
       "    .dataframe tbody tr th:only-of-type {\n",
       "        vertical-align: middle;\n",
       "    }\n",
       "\n",
       "    .dataframe tbody tr th {\n",
       "        vertical-align: top;\n",
       "    }\n",
       "\n",
       "    .dataframe thead th {\n",
       "        text-align: right;\n",
       "    }\n",
       "</style>\n",
       "<table border=\"1\" class=\"dataframe\">\n",
       "  <thead>\n",
       "    <tr style=\"text-align: right;\">\n",
       "      <th></th>\n",
       "      <th>title</th>\n",
       "      <th>content</th>\n",
       "      <th>source</th>\n",
       "      <th>label</th>\n",
       "      <th>full_text</th>\n",
       "    </tr>\n",
       "  </thead>\n",
       "  <tbody>\n",
       "    <tr>\n",
       "      <th>0</th>\n",
       "      <td>Pitso Burst Into Fight With His Player Agent O...</td>\n",
       "      <td>It?s not a secret that Sibusiso Vilakazi is c...</td>\n",
       "      <td>hinnews.com</td>\n",
       "      <td>0</td>\n",
       "      <td>pitso burst fight player agent players decisio...</td>\n",
       "    </tr>\n",
       "    <tr>\n",
       "      <th>1</th>\n",
       "      <td>Pretoria police caught in human trafficking an...</td>\n",
       "      <td>According to report, Some criminals may have ...</td>\n",
       "      <td>hinnews.com</td>\n",
       "      <td>0</td>\n",
       "      <td>pretoria police catch human traffic kidnap acc...</td>\n",
       "    </tr>\n",
       "    <tr>\n",
       "      <th>2</th>\n",
       "      <td>Kaizer Chiefs Players Reveals Why Chiefs Playe...</td>\n",
       "      <td>Ex-Kaizer Chiefs hardman Tinashe Nengomasha h...</td>\n",
       "      <td>hinnews.com</td>\n",
       "      <td>0</td>\n",
       "      <td>kaizer chiefs players reveal chiefs players su...</td>\n",
       "    </tr>\n",
       "    <tr>\n",
       "      <th>3</th>\n",
       "      <td>Malema and Ndlozi to be prosecuted for assault...</td>\n",
       "      <td>Lobby group AfriForum announced in a statemen...</td>\n",
       "      <td>hinnews.com</td>\n",
       "      <td>0</td>\n",
       "      <td>malema ndlozi prosecute assault police officer...</td>\n",
       "    </tr>\n",
       "    <tr>\n",
       "      <th>4</th>\n",
       "      <td>Woman survives after being shot 11 times by he...</td>\n",
       "      <td>A Detroit woman is lucky to be alive after sh...</td>\n",
       "      <td>hinnews.com</td>\n",
       "      <td>0</td>\n",
       "      <td>woman survive shoot 11 time wife detroit woman...</td>\n",
       "    </tr>\n",
       "  </tbody>\n",
       "</table>\n",
       "</div>"
      ],
      "text/plain": [
       "                                               title  \\\n",
       "0  Pitso Burst Into Fight With His Player Agent O...   \n",
       "1  Pretoria police caught in human trafficking an...   \n",
       "2  Kaizer Chiefs Players Reveals Why Chiefs Playe...   \n",
       "3  Malema and Ndlozi to be prosecuted for assault...   \n",
       "4  Woman survives after being shot 11 times by he...   \n",
       "\n",
       "                                             content       source  label  \\\n",
       "0   It?s not a secret that Sibusiso Vilakazi is c...  hinnews.com      0   \n",
       "1   According to report, Some criminals may have ...  hinnews.com      0   \n",
       "2   Ex-Kaizer Chiefs hardman Tinashe Nengomasha h...  hinnews.com      0   \n",
       "3   Lobby group AfriForum announced in a statemen...  hinnews.com      0   \n",
       "4   A Detroit woman is lucky to be alive after sh...  hinnews.com      0   \n",
       "\n",
       "                                           full_text  \n",
       "0  pitso burst fight player agent players decisio...  \n",
       "1  pretoria police catch human traffic kidnap acc...  \n",
       "2  kaizer chiefs players reveal chiefs players su...  \n",
       "3  malema ndlozi prosecute assault police officer...  \n",
       "4  woman survive shoot 11 time wife detroit woman...  "
      ]
     },
     "execution_count": 2,
     "metadata": {},
     "output_type": "execute_result"
    }
   ],
   "source": [
    "# loading the dataset\n",
    "df = pd.read_csv(\"balanced_new.csv\")\n",
    "df.head()"
   ]
  },
  {
   "cell_type": "markdown",
   "metadata": {},
   "source": [
    "#### Getting the descriptive stats of sentence length size "
   ]
  },
  {
   "cell_type": "code",
   "execution_count": 3,
   "metadata": {},
   "outputs": [],
   "source": [
    "full_text_length = df[\"full_text\"].apply(lambda x: len(x.split()))     # split it into indivdual words, then check\n",
    "\n",
    "max_length = full_text_length.max()"
   ]
  },
  {
   "cell_type": "code",
   "execution_count": 4,
   "metadata": {},
   "outputs": [],
   "source": [
    "# Getting the X and y varibales\n",
    "X = df[\"full_text\"]\n",
    "y = df[\"label\"]\n",
    "\n",
    "X_train, X_test, y_train, y_test = train_test_split(X, y, test_size=0.5, random_state=42)"
   ]
  },
  {
   "cell_type": "markdown",
   "metadata": {},
   "source": [
    "#### Text preprocessing for deep learning "
   ]
  },
  {
   "cell_type": "markdown",
   "metadata": {},
   "source": [
    "converting words in tokens"
   ]
  },
  {
   "cell_type": "code",
   "execution_count": 5,
   "metadata": {},
   "outputs": [],
   "source": [
    "token = Tokenizer(num_words=max_length, oov_token=\"<OOV>\")"
   ]
  },
  {
   "cell_type": "code",
   "execution_count": 6,
   "metadata": {},
   "outputs": [],
   "source": [
    "token.fit_on_texts(X_train)\n",
    "word_index = token.word_index\n",
    "training_seq = token.texts_to_sequences(X_train)\n",
    "train_padded = pad_sequences(training_seq,  maxlen=max_length)"
   ]
  },
  {
   "cell_type": "markdown",
   "metadata": {},
   "source": [
    "#### Splitting the dataset"
   ]
  },
  {
   "cell_type": "code",
   "execution_count": 7,
   "metadata": {},
   "outputs": [
    {
     "data": {
      "text/plain": [
       "array([[  0,   0,   0, ...,   1,   1,   1],\n",
       "       [  0,   0,   0, ..., 201, 386,   1],\n",
       "       [  0,   0,   0, ..., 144, 659, 365],\n",
       "       ...,\n",
       "       [  0,   0,   0, ..., 390,   1,   1],\n",
       "       [  0,   0,   0, ..., 571,  17,   1],\n",
       "       [  0,   0,   0, ..., 972,   9, 286]], dtype=int32)"
      ]
     },
     "execution_count": 7,
     "metadata": {},
     "output_type": "execute_result"
    }
   ],
   "source": [
    "# train and test split\n",
    "#80/20 split\n",
    "X_train, X_valid, y_train, y_valid = train_test_split(train_padded, y_train, test_size=0.5, random_state=42)\n",
    "\n",
    "X_train"
   ]
  },
  {
   "cell_type": "markdown",
   "metadata": {},
   "source": [
    "### Building the model"
   ]
  },
  {
   "cell_type": "code",
   "execution_count": 8,
   "metadata": {},
   "outputs": [],
   "source": [
    "model = keras.models.Sequential()\n",
    "model.add(keras.layers.Embedding(10000, 128))\n",
    "model.add(keras.layers.Bidirectional(keras.layers.LSTM(64,return_sequences=True)))\n",
    "model.add(keras.layers.Bidirectional(keras.layers.LSTM(64)))\n",
    "model.add(keras.layers.Dense(128,activation=\"relu\",  kernel_regularizer=l2(0.01)))\n",
    "model.add(keras.layers.Dropout(0.4))\n",
    "model.add(keras.layers.Dense(1, activation='sigmoid'))"
   ]
  },
  {
   "cell_type": "code",
   "execution_count": 9,
   "metadata": {},
   "outputs": [],
   "source": [
    "f1 = F1Score(threshold=0.5)\n",
    "\n",
    "callbacks = [\n",
    "        EarlyStopping(monitor='val_precision', verbose=1,  mode=\"max\")\n",
    "    ]\n",
    "\n",
    "model.compile(loss='binary_crossentropy', optimizer='adam',  metrics=[\"accuracy\", f1, Recall, Precision])"
   ]
  },
  {
   "cell_type": "code",
   "execution_count": 10,
   "metadata": {},
   "outputs": [
    {
     "name": "stdout",
     "output_type": "stream",
     "text": [
      "Epoch 1/5\n",
      "\u001b[1m13/13\u001b[0m \u001b[32m━━━━━━━━━━━━━━━━━━━━\u001b[0m\u001b[37m\u001b[0m \u001b[1m15s\u001b[0m 947ms/step - accuracy: 0.4243 - f1_score: 0.5136 - loss: 1.9032 - precision: 0.4606 - recall: 0.5930 - val_accuracy: 0.5312 - val_f1_score: 0.6939 - val_loss: 1.6804 - val_precision: 0.5312 - val_recall: 1.0000\n",
      "Epoch 2/5\n",
      "\u001b[1m13/13\u001b[0m \u001b[32m━━━━━━━━━━━━━━━━━━━━\u001b[0m\u001b[37m\u001b[0m \u001b[1m12s\u001b[0m 916ms/step - accuracy: 0.5603 - f1_score: 0.7164 - loss: 1.6083 - precision: 0.5676 - recall: 0.9761 - val_accuracy: 0.5793 - val_f1_score: 0.7145 - val_loss: 1.4313 - val_precision: 0.5587 - val_recall: 0.9910\n",
      "Epoch 3/5\n",
      "\u001b[1m13/13\u001b[0m \u001b[32m━━━━━━━━━━━━━━━━━━━━\u001b[0m\u001b[37m\u001b[0m \u001b[1m12s\u001b[0m 914ms/step - accuracy: 0.7268 - f1_score: 0.7764 - loss: 1.3376 - precision: 0.6773 - recall: 0.9146 - val_accuracy: 0.7885 - val_f1_score: 0.8079 - val_loss: 1.1039 - val_precision: 0.7806 - val_recall: 0.8371\n",
      "Epoch 4/5\n",
      "\u001b[1m13/13\u001b[0m \u001b[32m━━━━━━━━━━━━━━━━━━━━\u001b[0m\u001b[37m\u001b[0m \u001b[1m12s\u001b[0m 929ms/step - accuracy: 0.8967 - f1_score: 0.9089 - loss: 0.8914 - precision: 0.8890 - recall: 0.9307 - val_accuracy: 0.7861 - val_f1_score: 0.8279 - val_loss: 1.2873 - val_precision: 0.7230 - val_recall: 0.9683\n",
      "Epoch 4: early stopping\n"
     ]
    }
   ],
   "source": [
    "history = model.fit(X_train, y_train,  batch_size=32,  epochs=5,  validation_data=(X_valid,y_valid), callbacks=callbacks)"
   ]
  },
  {
   "cell_type": "code",
   "execution_count": 11,
   "metadata": {},
   "outputs": [
    {
     "data": {
      "text/plain": [
       "{'accuracy': [0.45542168617248535,\n",
       "  0.5349397659301758,\n",
       "  0.7469879388809204,\n",
       "  0.9132530093193054],\n",
       " 'f1_score': [0.5670497417449951,\n",
       "  0.6911999583244324,\n",
       "  0.7817047238349915,\n",
       "  0.9181817770004272],\n",
       " 'loss': [1.8393173217773438,\n",
       "  1.5585100650787354,\n",
       "  1.2661329507827759,\n",
       "  0.8103451132774353],\n",
       " 'precision': [0.4868420958518982,\n",
       "  0.5307125449180603,\n",
       "  0.7148289084434509,\n",
       "  0.9099099040031433],\n",
       " 'recall': [0.6788991093635559,\n",
       "  0.9908257126808167,\n",
       "  0.8623853325843811,\n",
       "  0.9266055226325989],\n",
       " 'val_accuracy': [0.53125,\n",
       "  0.5793269276618958,\n",
       "  0.7884615659713745,\n",
       "  0.786057710647583],\n",
       " 'val_f1_score': [0.6938775181770325,\n",
       "  0.714518666267395,\n",
       "  0.8078601360321045,\n",
       "  0.8278530240058899],\n",
       " 'val_loss': [1.6803919076919556,\n",
       "  1.431317687034607,\n",
       "  1.1038634777069092,\n",
       "  1.287319302558899],\n",
       " 'val_precision': [0.53125,\n",
       "  0.5586734414100647,\n",
       "  0.7805907130241394,\n",
       "  0.7229729890823364],\n",
       " 'val_recall': [1.0,\n",
       "  0.9909502267837524,\n",
       "  0.837104082107544,\n",
       "  0.9683257937431335]}"
      ]
     },
     "execution_count": 11,
     "metadata": {},
     "output_type": "execute_result"
    }
   ],
   "source": [
    "history.history"
   ]
  },
  {
   "cell_type": "markdown",
   "metadata": {},
   "source": [
    "### Visualize Loss and Accuracy Tradeof"
   ]
  },
  {
   "cell_type": "code",
   "execution_count": 12,
   "metadata": {},
   "outputs": [
    {
     "data": {
      "text/plain": [
       "<matplotlib.legend.Legend at 0x7f1798eb8910>"
      ]
     },
     "execution_count": 12,
     "metadata": {},
     "output_type": "execute_result"
    },
    {
     "data": {
      "image/png": "[encoded data removed]",
      "text/plain": [
       "<Figure size 1200x400 with 2 Axes>"
      ]
     },
     "metadata": {},
     "output_type": "display_data"
    }
   ],
   "source": [
    "fig , ax = plt.subplots(1,2)\n",
    "fig.set_size_inches(12,4)\n",
    "\n",
    "\n",
    "ax[0].plot(history.history['accuracy'])\n",
    "ax[0].plot(history.history['val_accuracy'])\n",
    "ax[0].set_title('Training Accuracy vs Validation Accuracy')\n",
    "ax[0].set_ylabel('Accuracy')\n",
    "ax[0].set_xlabel('Epoch')\n",
    "ax[0].legend(['Train', 'Validation'], loc='upper left')\n",
    "\n",
    "ax[1].plot(history.history['loss'])\n",
    "ax[1].plot(history.history['val_loss'])\n",
    "ax[1].set_title('Training Loss vs Validation Loss')\n",
    "ax[1].set_ylabel('Loss')\n",
    "ax[1].set_xlabel('Epoch')\n",
    "ax[1].legend(['Train', 'Validation'], loc='upper left')"
   ]
  },
  {
   "cell_type": "markdown",
   "metadata": {},
   "source": [
    "### predicting on Testing data"
   ]
  },
  {
   "cell_type": "code",
   "execution_count": 13,
   "metadata": {},
   "outputs": [],
   "source": [
    "testing_seq = token.texts_to_sequences(X_test)\n",
    "test_padded = pad_sequences(testing_seq, maxlen=max_length)\n"
   ]
  },
  {
   "cell_type": "code",
   "execution_count": 14,
   "metadata": {},
   "outputs": [
    {
     "name": "stdout",
     "output_type": "stream",
     "text": [
      "\u001b[1m26/26\u001b[0m \u001b[32m━━━━━━━━━━━━━━━━━━━━\u001b[0m\u001b[37m\u001b[0m \u001b[1m5s\u001b[0m 181ms/step - accuracy: 0.7924 - f1_score: 0.8251 - loss: 1.2506 - precision: 0.7231 - recall: 0.9609\n",
      "Loss  1.2587403059005737\n",
      "Accuracy  0.7918170690536499\n",
      "F1  0.8188481330871582\n",
      "Recall  0.9583333134651184\n",
      "Precision  0.7148080468177795\n"
     ]
    }
   ],
   "source": [
    "scores = model.evaluate(test_padded, y_test)\n",
    "print(\"Loss \", scores[0])\n",
    "print(\"Accuracy \", scores[1])\n",
    "print(\"F1 \", scores[2])\n",
    "print(\"Recall \", scores[3])\n",
    "print(\"Precision \", scores[4])"
   ]
  },
  {
   "cell_type": "markdown",
   "metadata": {},
   "source": [
    "### Evaluation "
   ]
  },
  {
   "cell_type": "markdown",
   "metadata": {},
   "source": [
    "Overfitting is taking place on the model. This is more likely because of the lack of fake news data or false labels within the dataset.  \n",
    "i will have to do text augemantation to create more false labels and check if anything changes."
   ]
  }
 ],
 "metadata": {
  "kernelspec": {
   "display_name": "myenviro",
   "language": "python",
   "name": "python3"
  },
  "language_info": {
   "codemirror_mode": {
    "name": "ipython",
    "version": 3
   },
   "file_extension": ".py",
   "mimetype": "text/x-python",
   "name": "python",
   "nbconvert_exporter": "python",
   "pygments_lexer": "ipython3",
   "version": "3.10.12"
  }
 },
 "nbformat": 4,
 "nbformat_minor": 2
}
