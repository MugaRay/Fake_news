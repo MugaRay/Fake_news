{
 "cells": [
  {
   "cell_type": "code",
   "execution_count": 119,
   "metadata": {},
   "outputs": [
    {
     "name": "stderr",
     "output_type": "stream",
     "text": [
      "[nltk_data] Downloading package stopwords to /home/ray/nltk_data...\n",
      "[nltk_data]   Package stopwords is already up-to-date!\n",
      "[nltk_data] Downloading package wordnet to /home/ray/nltk_data...\n",
      "[nltk_data]   Package wordnet is already up-to-date!\n",
      "[nltk_data] Downloading package omw-1.4 to /home/ray/nltk_data...\n",
      "[nltk_data]   Package omw-1.4 is already up-to-date!\n"
     ]
    },
    {
     "data": {
      "text/plain": [
       "True"
      ]
     },
     "execution_count": 119,
     "metadata": {},
     "output_type": "execute_result"
    }
   ],
   "source": [
    "import pandas as pd\n",
    "import nltk\n",
    "from nltk.stem import PorterStemmer, WordNetLemmatizer\n",
    "import re\n",
    "\n",
    "nltk.download('stopwords')\n",
    "nltk.download('wordnet')\n",
    "nltk.download('omw-1.4')"
   ]
  },
  {
   "cell_type": "markdown",
   "metadata": {},
   "source": [
    "## Merging data "
   ]
  },
  {
   "cell_type": "code",
   "execution_count": 120,
   "metadata": {},
   "outputs": [],
   "source": [
    "fake_news = pd.read_csv(\"Fakenews.csv\",  encoding='utf-8',   encoding_errors='replace')\n",
    "real_news = pd.read_csv(\"south_african_news_articles.csv\")"
   ]
  },
  {
   "cell_type": "code",
   "execution_count": 121,
   "metadata": {},
   "outputs": [
    {
     "data": {
      "text/html": [
       "<div>\n",
       "<style scoped>\n",
       "    .dataframe tbody tr th:only-of-type {\n",
       "        vertical-align: middle;\n",
       "    }\n",
       "\n",
       "    .dataframe tbody tr th {\n",
       "        vertical-align: top;\n",
       "    }\n",
       "\n",
       "    .dataframe thead th {\n",
       "        text-align: right;\n",
       "    }\n",
       "</style>\n",
       "<table border=\"1\" class=\"dataframe\">\n",
       "  <thead>\n",
       "    <tr style=\"text-align: right;\">\n",
       "      <th></th>\n",
       "      <th>Unnamed: 0</th>\n",
       "      <th>title</th>\n",
       "      <th>content</th>\n",
       "      <th>source</th>\n",
       "      <th>label</th>\n",
       "    </tr>\n",
       "  </thead>\n",
       "  <tbody>\n",
       "    <tr>\n",
       "      <th>0</th>\n",
       "      <td>0</td>\n",
       "      <td>JMPD officials suspended after death of EFF c...</td>\n",
       "      <td>An armoured security guards vehicle w...</td>\n",
       "      <td>Times</td>\n",
       "      <td>1</td>\n",
       "    </tr>\n",
       "    <tr>\n",
       "      <th>1</th>\n",
       "      <td>1</td>\n",
       "      <td>Hawks seize rifles, pistols at 'firearms trai...</td>\n",
       "      <td>Hawks confiscated firearms and ammuni...</td>\n",
       "      <td>Times</td>\n",
       "      <td>1</td>\n",
       "    </tr>\n",
       "    <tr>\n",
       "      <th>2</th>\n",
       "      <td>2</td>\n",
       "      <td>Acsa chief information officer suspended over...</td>\n",
       "      <td>ACSA has placed their chief informati...</td>\n",
       "      <td>Times</td>\n",
       "      <td>1</td>\n",
       "    </tr>\n",
       "    <tr>\n",
       "      <th>3</th>\n",
       "      <td>3</td>\n",
       "      <td>ID refers Matshela Koko magistrate for invest...</td>\n",
       "      <td>Former Eskom boss Matshela Koko celeb...</td>\n",
       "      <td>Times</td>\n",
       "      <td>1</td>\n",
       "    </tr>\n",
       "    <tr>\n",
       "      <th>4</th>\n",
       "      <td>4</td>\n",
       "      <td>Ace Magashule's former PA back in SA after ex...</td>\n",
       "      <td>Ace Magashule's former personal assis...</td>\n",
       "      <td>Times</td>\n",
       "      <td>1</td>\n",
       "    </tr>\n",
       "    <tr>\n",
       "      <th>...</th>\n",
       "      <td>...</td>\n",
       "      <td>...</td>\n",
       "      <td>...</td>\n",
       "      <td>...</td>\n",
       "      <td>...</td>\n",
       "    </tr>\n",
       "    <tr>\n",
       "      <th>2900</th>\n",
       "      <td>2900</td>\n",
       "      <td>Broad political spectrum in unity government a...</td>\n",
       "      <td>Chief Justice Raymond Zondo on Wednesday swore...</td>\n",
       "      <td>Mail and Guardian</td>\n",
       "      <td>1</td>\n",
       "    </tr>\n",
       "    <tr>\n",
       "      <th>2901</th>\n",
       "      <td>2901</td>\n",
       "      <td>The growing popularity of cricket in South Africa</td>\n",
       "      <td>Cricket has always been a beloved sport in Sou...</td>\n",
       "      <td>Mail and Guardian</td>\n",
       "      <td>1</td>\n",
       "    </tr>\n",
       "    <tr>\n",
       "      <th>2902</th>\n",
       "      <td>2902</td>\n",
       "      <td>Not so sweet: Sugar industry stakeholders figh...</td>\n",
       "      <td>A disagreement has erupted in the sugar indust...</td>\n",
       "      <td>Mail and Guardian</td>\n",
       "      <td>1</td>\n",
       "    </tr>\n",
       "    <tr>\n",
       "      <th>2903</th>\n",
       "      <td>2903</td>\n",
       "      <td>Woman swallowed whole by python in Indonesia</td>\n",
       "      <td>A woman was found dead inside the belly of a s...</td>\n",
       "      <td>Mail and Guardian</td>\n",
       "      <td>1</td>\n",
       "    </tr>\n",
       "    <tr>\n",
       "      <th>2904</th>\n",
       "      <td>2904</td>\n",
       "      <td>From water to police: Senzo Mchunu’s legacy an...</td>\n",
       "      <td>The outgoing water and sanitation minister, Se...</td>\n",
       "      <td>Mail and Guardian</td>\n",
       "      <td>1</td>\n",
       "    </tr>\n",
       "  </tbody>\n",
       "</table>\n",
       "<p>2905 rows × 5 columns</p>\n",
       "</div>"
      ],
      "text/plain": [
       "      Unnamed: 0                                              title  \\\n",
       "0              0   JMPD officials suspended after death of EFF c...   \n",
       "1              1   Hawks seize rifles, pistols at 'firearms trai...   \n",
       "2              2   Acsa chief information officer suspended over...   \n",
       "3              3   ID refers Matshela Koko magistrate for invest...   \n",
       "4              4   Ace Magashule's former PA back in SA after ex...   \n",
       "...          ...                                                ...   \n",
       "2900        2900  Broad political spectrum in unity government a...   \n",
       "2901        2901  The growing popularity of cricket in South Africa   \n",
       "2902        2902  Not so sweet: Sugar industry stakeholders figh...   \n",
       "2903        2903       Woman swallowed whole by python in Indonesia   \n",
       "2904        2904  From water to police: Senzo Mchunu’s legacy an...   \n",
       "\n",
       "                                                content             source  \\\n",
       "0              An armoured security guards vehicle w...              Times   \n",
       "1              Hawks confiscated firearms and ammuni...              Times   \n",
       "2              ACSA has placed their chief informati...              Times   \n",
       "3              Former Eskom boss Matshela Koko celeb...              Times   \n",
       "4              Ace Magashule's former personal assis...              Times   \n",
       "...                                                 ...                ...   \n",
       "2900  Chief Justice Raymond Zondo on Wednesday swore...  Mail and Guardian   \n",
       "2901  Cricket has always been a beloved sport in Sou...  Mail and Guardian   \n",
       "2902  A disagreement has erupted in the sugar indust...  Mail and Guardian   \n",
       "2903  A woman was found dead inside the belly of a s...  Mail and Guardian   \n",
       "2904  The outgoing water and sanitation minister, Se...  Mail and Guardian   \n",
       "\n",
       "      label  \n",
       "0         1  \n",
       "1         1  \n",
       "2         1  \n",
       "3         1  \n",
       "4         1  \n",
       "...     ...  \n",
       "2900      1  \n",
       "2901      1  \n",
       "2902      1  \n",
       "2903      1  \n",
       "2904      1  \n",
       "\n",
       "[2905 rows x 5 columns]"
      ]
     },
     "execution_count": 121,
     "metadata": {},
     "output_type": "execute_result"
    }
   ],
   "source": [
    "# dropping duplicates\n",
    "fake_news.drop_duplicates()\n",
    "real_news.drop_duplicates()"
   ]
  },
  {
   "cell_type": "code",
   "execution_count": 122,
   "metadata": {},
   "outputs": [
    {
     "data": {
      "text/html": [
       "<div>\n",
       "<style scoped>\n",
       "    .dataframe tbody tr th:only-of-type {\n",
       "        vertical-align: middle;\n",
       "    }\n",
       "\n",
       "    .dataframe tbody tr th {\n",
       "        vertical-align: top;\n",
       "    }\n",
       "\n",
       "    .dataframe thead th {\n",
       "        text-align: right;\n",
       "    }\n",
       "</style>\n",
       "<table border=\"1\" class=\"dataframe\">\n",
       "  <thead>\n",
       "    <tr style=\"text-align: right;\">\n",
       "      <th></th>\n",
       "      <th>title</th>\n",
       "      <th>content</th>\n",
       "      <th>source</th>\n",
       "      <th>label</th>\n",
       "      <th>Unnamed: 0</th>\n",
       "    </tr>\n",
       "  </thead>\n",
       "  <tbody>\n",
       "    <tr>\n",
       "      <th>0</th>\n",
       "      <td>Pitso Burst Into Fight With His Player Agent O...</td>\n",
       "      <td>It?s not a secret that Sibusiso Vilakazi is c...</td>\n",
       "      <td>hinnews.com</td>\n",
       "      <td>0</td>\n",
       "      <td>NaN</td>\n",
       "    </tr>\n",
       "    <tr>\n",
       "      <th>1</th>\n",
       "      <td>Pretoria police caught in human trafficking an...</td>\n",
       "      <td>According to report, Some criminals may have ...</td>\n",
       "      <td>hinnews.com</td>\n",
       "      <td>0</td>\n",
       "      <td>NaN</td>\n",
       "    </tr>\n",
       "    <tr>\n",
       "      <th>2</th>\n",
       "      <td>Kaizer Chiefs Players Reveals Why Chiefs Playe...</td>\n",
       "      <td>Ex-Kaizer Chiefs hardman Tinashe Nengomasha h...</td>\n",
       "      <td>hinnews.com</td>\n",
       "      <td>0</td>\n",
       "      <td>NaN</td>\n",
       "    </tr>\n",
       "    <tr>\n",
       "      <th>3</th>\n",
       "      <td>Malema and Ndlozi to be prosecuted for assault...</td>\n",
       "      <td>Lobby group AfriForum announced in a statemen...</td>\n",
       "      <td>hinnews.com</td>\n",
       "      <td>0</td>\n",
       "      <td>NaN</td>\n",
       "    </tr>\n",
       "    <tr>\n",
       "      <th>4</th>\n",
       "      <td>Woman survives after being shot 11 times by he...</td>\n",
       "      <td>A Detroit woman is lucky to be alive after sh...</td>\n",
       "      <td>hinnews.com</td>\n",
       "      <td>0</td>\n",
       "      <td>NaN</td>\n",
       "    </tr>\n",
       "  </tbody>\n",
       "</table>\n",
       "</div>"
      ],
      "text/plain": [
       "                                               title  \\\n",
       "0  Pitso Burst Into Fight With His Player Agent O...   \n",
       "1  Pretoria police caught in human trafficking an...   \n",
       "2  Kaizer Chiefs Players Reveals Why Chiefs Playe...   \n",
       "3  Malema and Ndlozi to be prosecuted for assault...   \n",
       "4  Woman survives after being shot 11 times by he...   \n",
       "\n",
       "                                             content       source  label  \\\n",
       "0   It?s not a secret that Sibusiso Vilakazi is c...  hinnews.com      0   \n",
       "1   According to report, Some criminals may have ...  hinnews.com      0   \n",
       "2   Ex-Kaizer Chiefs hardman Tinashe Nengomasha h...  hinnews.com      0   \n",
       "3   Lobby group AfriForum announced in a statemen...  hinnews.com      0   \n",
       "4   A Detroit woman is lucky to be alive after sh...  hinnews.com      0   \n",
       "\n",
       "   Unnamed: 0  \n",
       "0         NaN  \n",
       "1         NaN  \n",
       "2         NaN  \n",
       "3         NaN  \n",
       "4         NaN  "
      ]
     },
     "execution_count": 122,
     "metadata": {},
     "output_type": "execute_result"
    }
   ],
   "source": [
    "# merging the two data frams\n",
    "combined = pd.concat([fake_news, real_news], axis=0, ignore_index=True)\n",
    "\n",
    "combined.head()"
   ]
  },
  {
   "cell_type": "code",
   "execution_count": 123,
   "metadata": {},
   "outputs": [
    {
     "data": {
      "text/html": [
       "<div>\n",
       "<style scoped>\n",
       "    .dataframe tbody tr th:only-of-type {\n",
       "        vertical-align: middle;\n",
       "    }\n",
       "\n",
       "    .dataframe tbody tr th {\n",
       "        vertical-align: top;\n",
       "    }\n",
       "\n",
       "    .dataframe thead th {\n",
       "        text-align: right;\n",
       "    }\n",
       "</style>\n",
       "<table border=\"1\" class=\"dataframe\">\n",
       "  <thead>\n",
       "    <tr style=\"text-align: right;\">\n",
       "      <th></th>\n",
       "      <th>title</th>\n",
       "      <th>content</th>\n",
       "      <th>source</th>\n",
       "      <th>label</th>\n",
       "    </tr>\n",
       "  </thead>\n",
       "  <tbody>\n",
       "    <tr>\n",
       "      <th>0</th>\n",
       "      <td>Pitso Burst Into Fight With His Player Agent O...</td>\n",
       "      <td>It?s not a secret that Sibusiso Vilakazi is c...</td>\n",
       "      <td>hinnews.com</td>\n",
       "      <td>0</td>\n",
       "    </tr>\n",
       "    <tr>\n",
       "      <th>1</th>\n",
       "      <td>Pretoria police caught in human trafficking an...</td>\n",
       "      <td>According to report, Some criminals may have ...</td>\n",
       "      <td>hinnews.com</td>\n",
       "      <td>0</td>\n",
       "    </tr>\n",
       "    <tr>\n",
       "      <th>2</th>\n",
       "      <td>Kaizer Chiefs Players Reveals Why Chiefs Playe...</td>\n",
       "      <td>Ex-Kaizer Chiefs hardman Tinashe Nengomasha h...</td>\n",
       "      <td>hinnews.com</td>\n",
       "      <td>0</td>\n",
       "    </tr>\n",
       "    <tr>\n",
       "      <th>3</th>\n",
       "      <td>Malema and Ndlozi to be prosecuted for assault...</td>\n",
       "      <td>Lobby group AfriForum announced in a statemen...</td>\n",
       "      <td>hinnews.com</td>\n",
       "      <td>0</td>\n",
       "    </tr>\n",
       "    <tr>\n",
       "      <th>4</th>\n",
       "      <td>Woman survives after being shot 11 times by he...</td>\n",
       "      <td>A Detroit woman is lucky to be alive after sh...</td>\n",
       "      <td>hinnews.com</td>\n",
       "      <td>0</td>\n",
       "    </tr>\n",
       "  </tbody>\n",
       "</table>\n",
       "</div>"
      ],
      "text/plain": [
       "                                               title  \\\n",
       "0  Pitso Burst Into Fight With His Player Agent O...   \n",
       "1  Pretoria police caught in human trafficking an...   \n",
       "2  Kaizer Chiefs Players Reveals Why Chiefs Playe...   \n",
       "3  Malema and Ndlozi to be prosecuted for assault...   \n",
       "4  Woman survives after being shot 11 times by he...   \n",
       "\n",
       "                                             content       source  label  \n",
       "0   It?s not a secret that Sibusiso Vilakazi is c...  hinnews.com      0  \n",
       "1   According to report, Some criminals may have ...  hinnews.com      0  \n",
       "2   Ex-Kaizer Chiefs hardman Tinashe Nengomasha h...  hinnews.com      0  \n",
       "3   Lobby group AfriForum announced in a statemen...  hinnews.com      0  \n",
       "4   A Detroit woman is lucky to be alive after sh...  hinnews.com      0  "
      ]
     },
     "execution_count": 123,
     "metadata": {},
     "output_type": "execute_result"
    }
   ],
   "source": [
    "combined.drop([\"Unnamed: 0\"], inplace=True, axis=1)\n",
    "\n",
    "combined.head()"
   ]
  },
  {
   "cell_type": "code",
   "execution_count": 135,
   "metadata": {},
   "outputs": [
    {
     "data": {
      "text/plain": [
       "title        0\n",
       "content      0\n",
       "source       0\n",
       "label        0\n",
       "full_text    0\n",
       "dtype: int64"
      ]
     },
     "execution_count": 135,
     "metadata": {},
     "output_type": "execute_result"
    }
   ],
   "source": [
    "# checking for nan values\n",
    "combined.isna().sum()\n"
   ]
  },
  {
   "cell_type": "markdown",
   "metadata": {},
   "source": [
    "since there is limited data in the dataset, i am gonna make a new column called full_text which will be the title and content combined. I will then clean this field "
   ]
  },
  {
   "cell_type": "markdown",
   "metadata": {},
   "source": [
    "#### Making Full_text column "
   ]
  },
  {
   "cell_type": "code",
   "execution_count": 134,
   "metadata": {},
   "outputs": [
    {
     "data": {
      "text/plain": [
       "0       Pitso Burst Into Fight With His Player Agent O...\n",
       "1       Pretoria police caught in human trafficking an...\n",
       "2       Kaizer Chiefs Players Reveals Why Chiefs Playe...\n",
       "3       Malema and Ndlozi to be prosecuted for assault...\n",
       "4       Woman survives after being shot 11 times by he...\n",
       "                              ...                        \n",
       "3715    Broad political spectrum in unity government a...\n",
       "3716    The growing popularity of cricket in South Afr...\n",
       "3717    Not so sweet: Sugar industry stakeholders figh...\n",
       "3718    Woman swallowed whole by python in Indonesia.A...\n",
       "3719    From water to police: Senzo Mchunu’s legacy an...\n",
       "Name: full_text, Length: 3710, dtype: object"
      ]
     },
     "execution_count": 134,
     "metadata": {},
     "output_type": "execute_result"
    }
   ],
   "source": [
    "combined[\"full_text\"] = combined[\"title\"] + \".\" + combined[\"content\"]\n",
    "combined[\"full_text\"]"
   ]
  },
  {
   "cell_type": "code",
   "execution_count": 136,
   "metadata": {},
   "outputs": [
    {
     "data": {
      "text/plain": [
       "title        0\n",
       "content      0\n",
       "source       0\n",
       "label        0\n",
       "full_text    0\n",
       "dtype: int64"
      ]
     },
     "execution_count": 136,
     "metadata": {},
     "output_type": "execute_result"
    }
   ],
   "source": [
    "# double checking nan values \n",
    "combined.isna().sum()"
   ]
  },
  {
   "cell_type": "markdown",
   "metadata": {},
   "source": [
    "## Cleaning the DataFrame"
   ]
  },
  {
   "cell_type": "markdown",
   "metadata": {},
   "source": [
    "### Text Normalizing "
   ]
  },
  {
   "cell_type": "code",
   "execution_count": 126,
   "metadata": {},
   "outputs": [],
   "source": [
    "normalize = lambda document: document.lower()"
   ]
  },
  {
   "cell_type": "markdown",
   "metadata": {},
   "source": [
    "### Removing unwanted characters "
   ]
  },
  {
   "cell_type": "code",
   "execution_count": 127,
   "metadata": {},
   "outputs": [],
   "source": [
    "def remove_emoji(string):\n",
    "    emoji_pattern = re.compile(\"[\"\n",
    "                           u\"\\U0001F600-\\U0001F64F\"  # emoticons\n",
    "                           u\"\\U0001F300-\\U0001F5FF\"  # symbols & pictographs\n",
    "                           u\"\\U0001F680-\\U0001F6FF\"  # transport & map symbols\n",
    "                           u\"\\U0001F1E0-\\U0001F1FF\"  # flags (iOS)\n",
    "                           u\"\\U00002702-\\U000027B0\"\n",
    "                           u\"\\U000024C2-\\U0001F251\"\n",
    "                           \"]+\", flags=re.UNICODE)\n",
    "    return emoji_pattern.sub(r' ', string)\n",
    "\n",
    "def remove_unwanted(document):\n",
    "\n",
    "    # remove user mentions\n",
    "    document = re.sub(\"@[A-Za-z0-9_]+\",\" \", document)\n",
    "    # remove URLS\n",
    "    document = re.sub(r'http\\S+', ' ', document)\n",
    "    # remove hashtags\n",
    "    document = re.sub(\"#[A-Za-z0-9_]+\",\"\", document)\n",
    "    # remove emoji's\n",
    "    document = remove_emoji(document)\n",
    "    # remove punctuation\n",
    "    document = re.sub(\"[^0-9A-Za-z ]\", \"\" , document)\n",
    "    # remove double spaces\n",
    "    document = document.replace('  ',\"\")\n",
    "    \n",
    "    return document.strip()"
   ]
  },
  {
   "cell_type": "markdown",
   "metadata": {},
   "source": [
    "### Removing stop words"
   ]
  },
  {
   "cell_type": "code",
   "execution_count": 128,
   "metadata": {},
   "outputs": [],
   "source": [
    "def remove_words(tokens):\n",
    "    stopwords = nltk.corpus.stopwords.words('english') # also supports german, spanish, portuguese, and others!\n",
    "    stopwords = [remove_unwanted(word) for word in stopwords] # remove puntcuation from stopwords\n",
    "    cleaned_tokens = [token for token in tokens if token not in stopwords]\n",
    "    return cleaned_tokens"
   ]
  },
  {
   "cell_type": "markdown",
   "metadata": {},
   "source": [
    "### Lemmatization"
   ]
  },
  {
   "cell_type": "code",
   "execution_count": 129,
   "metadata": {},
   "outputs": [],
   "source": [
    "lemma = WordNetLemmatizer()\n",
    "\n",
    "def lemmatize(tokens):\n",
    "    lemmatized_tokens = [lemma.lemmatize(token, pos = 'v') for token in tokens]\n",
    "    return lemmatized_tokens"
   ]
  },
  {
   "cell_type": "markdown",
   "metadata": {},
   "source": [
    "### Stemming"
   ]
  },
  {
   "cell_type": "code",
   "execution_count": 130,
   "metadata": {},
   "outputs": [],
   "source": [
    "stem = PorterStemmer()\n",
    "\n",
    "def stemmer(tokens):\n",
    "    stemmed_tokens = [stem.stem(token) for token in tokens]\n",
    "    return stemmed_tokens"
   ]
  },
  {
   "cell_type": "markdown",
   "metadata": {},
   "source": [
    "### Pipeline "
   ]
  },
  {
   "cell_type": "code",
   "execution_count": 131,
   "metadata": {},
   "outputs": [],
   "source": [
    "def pipeline(document, rule = 'lemmatize'):\n",
    "    # first lets normalize the document\n",
    "    document = normalize(document)\n",
    "    # now lets remove unwanted characters\n",
    "    document = remove_unwanted(document)\n",
    "    # create tokens\n",
    "    tokens = document.split()\n",
    "    # remove unwanted words\n",
    "    tokens = remove_words(tokens)\n",
    "    # lemmatize or stem or\n",
    "    if rule == 'lemmatize':\n",
    "        tokens = lemmatize(tokens)\n",
    "    elif rule == 'stem':\n",
    "        tokens = stemmer(tokens)\n",
    "    else:\n",
    "        print(f\"{rule} Is an invalid rule. Choices are 'lemmatize' and 'stem'\")\n",
    "    \n",
    "    return \" \".join(tokens)"
   ]
  },
  {
   "cell_type": "code",
   "execution_count": 137,
   "metadata": {},
   "outputs": [
    {
     "data": {
      "text/html": [
       "<div>\n",
       "<style scoped>\n",
       "    .dataframe tbody tr th:only-of-type {\n",
       "        vertical-align: middle;\n",
       "    }\n",
       "\n",
       "    .dataframe tbody tr th {\n",
       "        vertical-align: top;\n",
       "    }\n",
       "\n",
       "    .dataframe thead th {\n",
       "        text-align: right;\n",
       "    }\n",
       "</style>\n",
       "<table border=\"1\" class=\"dataframe\">\n",
       "  <thead>\n",
       "    <tr style=\"text-align: right;\">\n",
       "      <th></th>\n",
       "      <th>title</th>\n",
       "      <th>content</th>\n",
       "      <th>source</th>\n",
       "      <th>label</th>\n",
       "      <th>full_text</th>\n",
       "    </tr>\n",
       "  </thead>\n",
       "  <tbody>\n",
       "    <tr>\n",
       "      <th>0</th>\n",
       "      <td>Pitso Burst Into Fight With His Player Agent O...</td>\n",
       "      <td>It?s not a secret that Sibusiso Vilakazi is c...</td>\n",
       "      <td>hinnews.com</td>\n",
       "      <td>0</td>\n",
       "      <td>pitso burst fight player agent players decisio...</td>\n",
       "    </tr>\n",
       "    <tr>\n",
       "      <th>1</th>\n",
       "      <td>Pretoria police caught in human trafficking an...</td>\n",
       "      <td>According to report, Some criminals may have ...</td>\n",
       "      <td>hinnews.com</td>\n",
       "      <td>0</td>\n",
       "      <td>pretoria police catch human traffic kidnap acc...</td>\n",
       "    </tr>\n",
       "    <tr>\n",
       "      <th>2</th>\n",
       "      <td>Kaizer Chiefs Players Reveals Why Chiefs Playe...</td>\n",
       "      <td>Ex-Kaizer Chiefs hardman Tinashe Nengomasha h...</td>\n",
       "      <td>hinnews.com</td>\n",
       "      <td>0</td>\n",
       "      <td>kaizer chiefs players reveal chiefs players su...</td>\n",
       "    </tr>\n",
       "    <tr>\n",
       "      <th>3</th>\n",
       "      <td>Malema and Ndlozi to be prosecuted for assault...</td>\n",
       "      <td>Lobby group AfriForum announced in a statemen...</td>\n",
       "      <td>hinnews.com</td>\n",
       "      <td>0</td>\n",
       "      <td>malema ndlozi prosecute assault police officer...</td>\n",
       "    </tr>\n",
       "    <tr>\n",
       "      <th>4</th>\n",
       "      <td>Woman survives after being shot 11 times by he...</td>\n",
       "      <td>A Detroit woman is lucky to be alive after sh...</td>\n",
       "      <td>hinnews.com</td>\n",
       "      <td>0</td>\n",
       "      <td>woman survive shoot 11 time wife detroit woman...</td>\n",
       "    </tr>\n",
       "  </tbody>\n",
       "</table>\n",
       "</div>"
      ],
      "text/plain": [
       "                                               title  \\\n",
       "0  Pitso Burst Into Fight With His Player Agent O...   \n",
       "1  Pretoria police caught in human trafficking an...   \n",
       "2  Kaizer Chiefs Players Reveals Why Chiefs Playe...   \n",
       "3  Malema and Ndlozi to be prosecuted for assault...   \n",
       "4  Woman survives after being shot 11 times by he...   \n",
       "\n",
       "                                             content       source  label  \\\n",
       "0   It?s not a secret that Sibusiso Vilakazi is c...  hinnews.com      0   \n",
       "1   According to report, Some criminals may have ...  hinnews.com      0   \n",
       "2   Ex-Kaizer Chiefs hardman Tinashe Nengomasha h...  hinnews.com      0   \n",
       "3   Lobby group AfriForum announced in a statemen...  hinnews.com      0   \n",
       "4   A Detroit woman is lucky to be alive after sh...  hinnews.com      0   \n",
       "\n",
       "                                           full_text  \n",
       "0  pitso burst fight player agent players decisio...  \n",
       "1  pretoria police catch human traffic kidnap acc...  \n",
       "2  kaizer chiefs players reveal chiefs players su...  \n",
       "3  malema ndlozi prosecute assault police officer...  \n",
       "4  woman survive shoot 11 time wife detroit woman...  "
      ]
     },
     "execution_count": 137,
     "metadata": {},
     "output_type": "execute_result"
    }
   ],
   "source": [
    "df_clean = combined.copy()\n",
    "\n",
    "df_clean[\"full_text\"] = df_clean[\"full_text\"] .apply(lambda doc: pipeline(doc))\n",
    "df_clean.head()"
   ]
  },
  {
   "cell_type": "code",
   "execution_count": 139,
   "metadata": {},
   "outputs": [],
   "source": [
    "df_clean.to_csv(\"Clean_News.csv\", index=False)"
   ]
  }
 ],
 "metadata": {
  "kernelspec": {
   "display_name": "myenviro",
   "language": "python",
   "name": "python3"
  },
  "language_info": {
   "codemirror_mode": {
    "name": "ipython",
    "version": 3
   },
   "file_extension": ".py",
   "mimetype": "text/x-python",
   "name": "python",
   "nbconvert_exporter": "python",
   "pygments_lexer": "ipython3",
   "version": "3.10.12"
  }
 },
 "nbformat": 4,
 "nbformat_minor": 2
}
